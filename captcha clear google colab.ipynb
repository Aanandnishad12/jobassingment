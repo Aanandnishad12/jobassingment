{
  "nbformat": 4,
  "nbformat_minor": 0,
  "metadata": {
    "colab": {
      "name": "Untitled2.ipynb",
      "provenance": [],
      "authorship_tag": "ABX9TyPa5qL54A7EBzXOWYKGsxgX",
      "include_colab_link": true
    },
    "kernelspec": {
      "name": "python3",
      "display_name": "Python 3"
    },
    "language_info": {
      "name": "python"
    }
  },
  "cells": [
    {
      "cell_type": "markdown",
      "metadata": {
        "id": "view-in-github",
        "colab_type": "text"
      },
      "source": [
        "<a href=\"https://colab.research.google.com/github/Aanandnishad12/jobassingment/blob/main/captcha%20clear%20google%20colab.ipynb\" target=\"_parent\"><img src=\"https://colab.research.google.com/assets/colab-badge.svg\" alt=\"Open In Colab\"/></a>"
      ]
    },
    {
      "cell_type": "code",
      "execution_count": null,
      "metadata": {
        "id": "PDuhosNH_PE1"
      },
      "outputs": [],
      "source": [
        "from selenium import webdriver     # importing necesst librery an modules\n",
        "import requests                     # please install pytesract amd cv2\n",
        "import pytesseract\n",
        "import cv2\n",
        "from bs4 import BeautifulSoup\n",
        "from time import sleep\n",
        "\n",
        "path = r\"C:\\Users\\anand nishad\\Desktop\\driver\\chromedriver.exe\"   # please change the to your path of the your address\n",
        "website = \"https://www.amazon.com/errors/validateCaptcha\"\n",
        "driver = webdriver.Chrome(path)\n",
        "driver.get(website)\n",
        "html = driver.page_source\n",
        "soup = BeautifulSoup(html,\"lxml\")\n",
        "# print(soup)\n",
        "image = soup.find(\"img\").get(\"src\")                  \n",
        "image_source = requests.get(image).content                        #downloading the image to pass in tessect in order to get into text\n",
        "with open('anand.jpg','wb') as f:\n",
        "    f.write(image_source)\n",
        "img = cv2.imread('anand.jpg')\n",
        "img = cv2.resize(img, (200, 70))\n",
        "\n",
        "pytesseract.pytesseract.tesseract_cmd = r'C:\\Program Files\\Tesseract-OCR\\tesseract.exe'    # please add your path of pytessseract\n",
        "the_captch_words = pytesseract.image_to_string(img)\n",
        "print(the_captch_words)                                                       # teh converted text will print here \n",
        "sleep(4)\n",
        "driver.find_element_by_id(\"captchacharacters\").send_keys(the_captch_words)\n",
        "driver.find_element_by_class_name(\"a-button-text\").click()\n"
      ]
    }
  ]
}